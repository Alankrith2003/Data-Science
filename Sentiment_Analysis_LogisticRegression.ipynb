{
 "cells": [
  {
   "cell_type": "code",
   "execution_count": 164,
   "id": "17c962b5",
   "metadata": {},
   "outputs": [],
   "source": [
    "import pandas as pd\n",
    "import numpy as np\n",
    "import string\n",
    "import re\n",
    "from nltk import word_tokenize\n",
    "from nltk.stem import WordNetLemmatizer\n",
    "from nltk.corpus import stopwords"
   ]
  },
  {
   "cell_type": "code",
   "execution_count": 165,
   "id": "cdb5e256",
   "metadata": {},
   "outputs": [],
   "source": [
    "import nltk"
   ]
  },
  {
   "cell_type": "code",
   "execution_count": 166,
   "id": "11b93777",
   "metadata": {},
   "outputs": [
    {
     "name": "stderr",
     "output_type": "stream",
     "text": [
      "[nltk_data] Downloading package wordnet to\n",
      "[nltk_data]     C:\\Users\\Alank\\AppData\\Roaming\\nltk_data...\n",
      "[nltk_data]   Package wordnet is already up-to-date!\n"
     ]
    },
    {
     "data": {
      "text/plain": [
       "True"
      ]
     },
     "execution_count": 166,
     "metadata": {},
     "output_type": "execute_result"
    }
   ],
   "source": [
    "nltk.download('wordnet')"
   ]
  },
  {
   "cell_type": "code",
   "execution_count": 167,
   "id": "2ee1c66c",
   "metadata": {},
   "outputs": [
    {
     "name": "stderr",
     "output_type": "stream",
     "text": [
      "[nltk_data] Downloading package punkt to\n",
      "[nltk_data]     C:\\Users\\Alank\\AppData\\Roaming\\nltk_data...\n",
      "[nltk_data]   Package punkt is already up-to-date!\n"
     ]
    },
    {
     "data": {
      "text/plain": [
       "True"
      ]
     },
     "execution_count": 167,
     "metadata": {},
     "output_type": "execute_result"
    }
   ],
   "source": [
    "nltk.download('punkt')"
   ]
  },
  {
   "cell_type": "code",
   "execution_count": 168,
   "id": "0b8e2aff",
   "metadata": {},
   "outputs": [
    {
     "name": "stderr",
     "output_type": "stream",
     "text": [
      "[nltk_data] Downloading package stopwords to\n",
      "[nltk_data]     C:\\Users\\Alank\\AppData\\Roaming\\nltk_data...\n",
      "[nltk_data]   Package stopwords is already up-to-date!\n"
     ]
    },
    {
     "data": {
      "text/plain": [
       "True"
      ]
     },
     "execution_count": 168,
     "metadata": {},
     "output_type": "execute_result"
    }
   ],
   "source": [
    "nltk.download('stopwords')"
   ]
  },
  {
   "cell_type": "code",
   "execution_count": 169,
   "id": "63894ab8",
   "metadata": {},
   "outputs": [
    {
     "name": "stderr",
     "output_type": "stream",
     "text": [
      "[nltk_data] Downloading package omw-1.4 to\n",
      "[nltk_data]     C:\\Users\\Alank\\AppData\\Roaming\\nltk_data...\n",
      "[nltk_data]   Package omw-1.4 is already up-to-date!\n"
     ]
    },
    {
     "data": {
      "text/plain": [
       "True"
      ]
     },
     "execution_count": 169,
     "metadata": {},
     "output_type": "execute_result"
    }
   ],
   "source": [
    "nltk.download('omw-1.4')"
   ]
  },
  {
   "cell_type": "code",
   "execution_count": 170,
   "id": "b878e784",
   "metadata": {},
   "outputs": [
    {
     "data": {
      "text/html": [
       "<div>\n",
       "<style scoped>\n",
       "    .dataframe tbody tr th:only-of-type {\n",
       "        vertical-align: middle;\n",
       "    }\n",
       "\n",
       "    .dataframe tbody tr th {\n",
       "        vertical-align: top;\n",
       "    }\n",
       "\n",
       "    .dataframe thead th {\n",
       "        text-align: right;\n",
       "    }\n",
       "</style>\n",
       "<table border=\"1\" class=\"dataframe\">\n",
       "  <thead>\n",
       "    <tr style=\"text-align: right;\">\n",
       "      <th></th>\n",
       "      <th>Title</th>\n",
       "      <th>Ratings</th>\n",
       "      <th>Review</th>\n",
       "      <th>App</th>\n",
       "    </tr>\n",
       "  </thead>\n",
       "  <tbody>\n",
       "    <tr>\n",
       "      <th>0</th>\n",
       "      <td>Probably the de facto payment system of most s...</td>\n",
       "      <td>5</td>\n",
       "      <td>My overall experience with PayPal is extremely...</td>\n",
       "      <td>Paypal</td>\n",
       "    </tr>\n",
       "    <tr>\n",
       "      <th>1</th>\n",
       "      <td>Industry leading payments and protection with ...</td>\n",
       "      <td>4</td>\n",
       "      <td>PayPal has always been fair and transparent wi...</td>\n",
       "      <td>Paypal</td>\n",
       "    </tr>\n",
       "    <tr>\n",
       "      <th>2</th>\n",
       "      <td>A Decent payment processor, an even worse fina...</td>\n",
       "      <td>2</td>\n",
       "      <td>Paypal was the second processor my agency used...</td>\n",
       "      <td>Paypal</td>\n",
       "    </tr>\n",
       "    <tr>\n",
       "      <th>3</th>\n",
       "      <td>Paypal is a great platform for buying and sell...</td>\n",
       "      <td>5</td>\n",
       "      <td>I have been using Paypal for years as both a b...</td>\n",
       "      <td>Paypal</td>\n",
       "    </tr>\n",
       "    <tr>\n",
       "      <th>4</th>\n",
       "      <td>Small Business MUST</td>\n",
       "      <td>5</td>\n",
       "      <td>Smooth sailing and effortlessly symbiotic. Pay...</td>\n",
       "      <td>Paypal</td>\n",
       "    </tr>\n",
       "  </tbody>\n",
       "</table>\n",
       "</div>"
      ],
      "text/plain": [
       "                                               Title  Ratings  \\\n",
       "0  Probably the de facto payment system of most s...        5   \n",
       "1  Industry leading payments and protection with ...        4   \n",
       "2  A Decent payment processor, an even worse fina...        2   \n",
       "3  Paypal is a great platform for buying and sell...        5   \n",
       "4                                Small Business MUST        5   \n",
       "\n",
       "                                              Review     App  \n",
       "0  My overall experience with PayPal is extremely...  Paypal  \n",
       "1  PayPal has always been fair and transparent wi...  Paypal  \n",
       "2  Paypal was the second processor my agency used...  Paypal  \n",
       "3  I have been using Paypal for years as both a b...  Paypal  \n",
       "4  Smooth sailing and effortlessly symbiotic. Pay...  Paypal  "
      ]
     },
     "execution_count": 170,
     "metadata": {},
     "output_type": "execute_result"
    }
   ],
   "source": [
    "df = pd.read_csv(\"payment_confirmed.csv\")\n",
    "df.head()"
   ]
  },
  {
   "cell_type": "code",
   "execution_count": 171,
   "id": "e1425b3f",
   "metadata": {},
   "outputs": [],
   "source": [
    "df['length'] = df['Review'].apply(lambda x: len(x))"
   ]
  },
  {
   "cell_type": "code",
   "execution_count": 172,
   "id": "8b7934fc",
   "metadata": {},
   "outputs": [],
   "source": [
    "df['Review'] = df['Review'].astype(str)"
   ]
  },
  {
   "cell_type": "code",
   "execution_count": 173,
   "id": "fb3efb7f",
   "metadata": {},
   "outputs": [],
   "source": [
    "#convert to lower case\n"
   ]
  },
  {
   "cell_type": "code",
   "execution_count": 174,
   "id": "d12e9140",
   "metadata": {},
   "outputs": [
    {
     "data": {
      "text/html": [
       "<div>\n",
       "<style scoped>\n",
       "    .dataframe tbody tr th:only-of-type {\n",
       "        vertical-align: middle;\n",
       "    }\n",
       "\n",
       "    .dataframe tbody tr th {\n",
       "        vertical-align: top;\n",
       "    }\n",
       "\n",
       "    .dataframe thead th {\n",
       "        text-align: right;\n",
       "    }\n",
       "</style>\n",
       "<table border=\"1\" class=\"dataframe\">\n",
       "  <thead>\n",
       "    <tr style=\"text-align: right;\">\n",
       "      <th></th>\n",
       "      <th>Title</th>\n",
       "      <th>Ratings</th>\n",
       "      <th>Review</th>\n",
       "      <th>App</th>\n",
       "      <th>length</th>\n",
       "    </tr>\n",
       "  </thead>\n",
       "  <tbody>\n",
       "    <tr>\n",
       "      <th>0</th>\n",
       "      <td>Probably the de facto payment system of most s...</td>\n",
       "      <td>5</td>\n",
       "      <td>my overall experience with paypal is extremely...</td>\n",
       "      <td>Paypal</td>\n",
       "      <td>128</td>\n",
       "    </tr>\n",
       "    <tr>\n",
       "      <th>1</th>\n",
       "      <td>Industry leading payments and protection with ...</td>\n",
       "      <td>4</td>\n",
       "      <td>paypal has always been fair and transparent wi...</td>\n",
       "      <td>Paypal</td>\n",
       "      <td>399</td>\n",
       "    </tr>\n",
       "    <tr>\n",
       "      <th>2</th>\n",
       "      <td>A Decent payment processor, an even worse fina...</td>\n",
       "      <td>2</td>\n",
       "      <td>paypal was the second processor my agency used...</td>\n",
       "      <td>Paypal</td>\n",
       "      <td>276</td>\n",
       "    </tr>\n",
       "    <tr>\n",
       "      <th>3</th>\n",
       "      <td>Paypal is a great platform for buying and sell...</td>\n",
       "      <td>5</td>\n",
       "      <td>i have been using paypal for years as both a b...</td>\n",
       "      <td>Paypal</td>\n",
       "      <td>146</td>\n",
       "    </tr>\n",
       "    <tr>\n",
       "      <th>4</th>\n",
       "      <td>Small Business MUST</td>\n",
       "      <td>5</td>\n",
       "      <td>smooth sailing and effortlessly symbiotic. pay...</td>\n",
       "      <td>Paypal</td>\n",
       "      <td>76</td>\n",
       "    </tr>\n",
       "  </tbody>\n",
       "</table>\n",
       "</div>"
      ],
      "text/plain": [
       "                                               Title  Ratings  \\\n",
       "0  Probably the de facto payment system of most s...        5   \n",
       "1  Industry leading payments and protection with ...        4   \n",
       "2  A Decent payment processor, an even worse fina...        2   \n",
       "3  Paypal is a great platform for buying and sell...        5   \n",
       "4                                Small Business MUST        5   \n",
       "\n",
       "                                              Review     App  length  \n",
       "0  my overall experience with paypal is extremely...  Paypal     128  \n",
       "1  paypal has always been fair and transparent wi...  Paypal     399  \n",
       "2  paypal was the second processor my agency used...  Paypal     276  \n",
       "3  i have been using paypal for years as both a b...  Paypal     146  \n",
       "4  smooth sailing and effortlessly symbiotic. pay...  Paypal      76  "
      ]
     },
     "execution_count": 174,
     "metadata": {},
     "output_type": "execute_result"
    }
   ],
   "source": [
    "df['Review'] = df['Review'].apply(lambda x: ''.join(map(str.lower, x)))\n",
    "df.head()"
   ]
  },
  {
   "cell_type": "code",
   "execution_count": 175,
   "id": "0ce43191",
   "metadata": {},
   "outputs": [],
   "source": [
    "#removing numbers\n",
    "def remove_numbers(Review):\n",
    "    number_pattern = r'\\d+'\n",
    "    without_number = re.sub(pattern=number_pattern, repl=\" \", string=Review)\n",
    "    return without_number"
   ]
  },
  {
   "cell_type": "code",
   "execution_count": 176,
   "id": "1b582624",
   "metadata": {},
   "outputs": [
    {
     "data": {
      "text/html": [
       "<div>\n",
       "<style scoped>\n",
       "    .dataframe tbody tr th:only-of-type {\n",
       "        vertical-align: middle;\n",
       "    }\n",
       "\n",
       "    .dataframe tbody tr th {\n",
       "        vertical-align: top;\n",
       "    }\n",
       "\n",
       "    .dataframe thead th {\n",
       "        text-align: right;\n",
       "    }\n",
       "</style>\n",
       "<table border=\"1\" class=\"dataframe\">\n",
       "  <thead>\n",
       "    <tr style=\"text-align: right;\">\n",
       "      <th></th>\n",
       "      <th>Title</th>\n",
       "      <th>Ratings</th>\n",
       "      <th>Review</th>\n",
       "      <th>App</th>\n",
       "      <th>length</th>\n",
       "    </tr>\n",
       "  </thead>\n",
       "  <tbody>\n",
       "    <tr>\n",
       "      <th>0</th>\n",
       "      <td>Probably the de facto payment system of most s...</td>\n",
       "      <td>5</td>\n",
       "      <td>my overall experience with paypal is extremely...</td>\n",
       "      <td>Paypal</td>\n",
       "      <td>128</td>\n",
       "    </tr>\n",
       "    <tr>\n",
       "      <th>1</th>\n",
       "      <td>Industry leading payments and protection with ...</td>\n",
       "      <td>4</td>\n",
       "      <td>paypal has always been fair and transparent wi...</td>\n",
       "      <td>Paypal</td>\n",
       "      <td>399</td>\n",
       "    </tr>\n",
       "    <tr>\n",
       "      <th>2</th>\n",
       "      <td>A Decent payment processor, an even worse fina...</td>\n",
       "      <td>2</td>\n",
       "      <td>paypal was the second processor my agency used...</td>\n",
       "      <td>Paypal</td>\n",
       "      <td>276</td>\n",
       "    </tr>\n",
       "    <tr>\n",
       "      <th>3</th>\n",
       "      <td>Paypal is a great platform for buying and sell...</td>\n",
       "      <td>5</td>\n",
       "      <td>i have been using paypal for years as both a b...</td>\n",
       "      <td>Paypal</td>\n",
       "      <td>146</td>\n",
       "    </tr>\n",
       "    <tr>\n",
       "      <th>4</th>\n",
       "      <td>Small Business MUST</td>\n",
       "      <td>5</td>\n",
       "      <td>smooth sailing and effortlessly symbiotic. pay...</td>\n",
       "      <td>Paypal</td>\n",
       "      <td>76</td>\n",
       "    </tr>\n",
       "  </tbody>\n",
       "</table>\n",
       "</div>"
      ],
      "text/plain": [
       "                                               Title  Ratings  \\\n",
       "0  Probably the de facto payment system of most s...        5   \n",
       "1  Industry leading payments and protection with ...        4   \n",
       "2  A Decent payment processor, an even worse fina...        2   \n",
       "3  Paypal is a great platform for buying and sell...        5   \n",
       "4                                Small Business MUST        5   \n",
       "\n",
       "                                              Review     App  length  \n",
       "0  my overall experience with paypal is extremely...  Paypal     128  \n",
       "1  paypal has always been fair and transparent wi...  Paypal     399  \n",
       "2  paypal was the second processor my agency used...  Paypal     276  \n",
       "3  i have been using paypal for years as both a b...  Paypal     146  \n",
       "4  smooth sailing and effortlessly symbiotic. pay...  Paypal      76  "
      ]
     },
     "execution_count": 176,
     "metadata": {},
     "output_type": "execute_result"
    }
   ],
   "source": [
    "df['Review'] = df['Review'].apply(lambda x: remove_numbers(x))\n",
    "df.head()"
   ]
  },
  {
   "cell_type": "code",
   "execution_count": 177,
   "id": "384007ce",
   "metadata": {},
   "outputs": [],
   "source": [
    "#Removing Punctuations\n",
    "def remove_punctuation(Review):\n",
    "    return Review.translate(str.maketrans('', '', string.punctuation))"
   ]
  },
  {
   "cell_type": "code",
   "execution_count": 178,
   "id": "a52cac6c",
   "metadata": {},
   "outputs": [
    {
     "data": {
      "text/html": [
       "<div>\n",
       "<style scoped>\n",
       "    .dataframe tbody tr th:only-of-type {\n",
       "        vertical-align: middle;\n",
       "    }\n",
       "\n",
       "    .dataframe tbody tr th {\n",
       "        vertical-align: top;\n",
       "    }\n",
       "\n",
       "    .dataframe thead th {\n",
       "        text-align: right;\n",
       "    }\n",
       "</style>\n",
       "<table border=\"1\" class=\"dataframe\">\n",
       "  <thead>\n",
       "    <tr style=\"text-align: right;\">\n",
       "      <th></th>\n",
       "      <th>Title</th>\n",
       "      <th>Ratings</th>\n",
       "      <th>Review</th>\n",
       "      <th>App</th>\n",
       "      <th>length</th>\n",
       "    </tr>\n",
       "  </thead>\n",
       "  <tbody>\n",
       "    <tr>\n",
       "      <th>0</th>\n",
       "      <td>Probably the de facto payment system of most s...</td>\n",
       "      <td>5</td>\n",
       "      <td>my overall experience with paypal is extremely...</td>\n",
       "      <td>Paypal</td>\n",
       "      <td>128</td>\n",
       "    </tr>\n",
       "    <tr>\n",
       "      <th>1</th>\n",
       "      <td>Industry leading payments and protection with ...</td>\n",
       "      <td>4</td>\n",
       "      <td>paypal has always been fair and transparent wi...</td>\n",
       "      <td>Paypal</td>\n",
       "      <td>399</td>\n",
       "    </tr>\n",
       "    <tr>\n",
       "      <th>2</th>\n",
       "      <td>A Decent payment processor, an even worse fina...</td>\n",
       "      <td>2</td>\n",
       "      <td>paypal was the second processor my agency used...</td>\n",
       "      <td>Paypal</td>\n",
       "      <td>276</td>\n",
       "    </tr>\n",
       "    <tr>\n",
       "      <th>3</th>\n",
       "      <td>Paypal is a great platform for buying and sell...</td>\n",
       "      <td>5</td>\n",
       "      <td>i have been using paypal for years as both a b...</td>\n",
       "      <td>Paypal</td>\n",
       "      <td>146</td>\n",
       "    </tr>\n",
       "    <tr>\n",
       "      <th>4</th>\n",
       "      <td>Small Business MUST</td>\n",
       "      <td>5</td>\n",
       "      <td>smooth sailing and effortlessly symbiotic payp...</td>\n",
       "      <td>Paypal</td>\n",
       "      <td>76</td>\n",
       "    </tr>\n",
       "  </tbody>\n",
       "</table>\n",
       "</div>"
      ],
      "text/plain": [
       "                                               Title  Ratings  \\\n",
       "0  Probably the de facto payment system of most s...        5   \n",
       "1  Industry leading payments and protection with ...        4   \n",
       "2  A Decent payment processor, an even worse fina...        2   \n",
       "3  Paypal is a great platform for buying and sell...        5   \n",
       "4                                Small Business MUST        5   \n",
       "\n",
       "                                              Review     App  length  \n",
       "0  my overall experience with paypal is extremely...  Paypal     128  \n",
       "1  paypal has always been fair and transparent wi...  Paypal     399  \n",
       "2  paypal was the second processor my agency used...  Paypal     276  \n",
       "3  i have been using paypal for years as both a b...  Paypal     146  \n",
       "4  smooth sailing and effortlessly symbiotic payp...  Paypal      76  "
      ]
     },
     "execution_count": 178,
     "metadata": {},
     "output_type": "execute_result"
    }
   ],
   "source": [
    "df['Review'] = df['Review'].apply(lambda x: remove_punctuation(x))\n",
    "df.head()"
   ]
  },
  {
   "cell_type": "code",
   "execution_count": 179,
   "id": "52b6081e",
   "metadata": {},
   "outputs": [],
   "source": [
    "#tokenise\n",
    "df['Review']=df['Review'].apply(word_tokenize)"
   ]
  },
  {
   "cell_type": "code",
   "execution_count": 180,
   "id": "e8bff3fc",
   "metadata": {},
   "outputs": [
    {
     "data": {
      "text/html": [
       "<div>\n",
       "<style scoped>\n",
       "    .dataframe tbody tr th:only-of-type {\n",
       "        vertical-align: middle;\n",
       "    }\n",
       "\n",
       "    .dataframe tbody tr th {\n",
       "        vertical-align: top;\n",
       "    }\n",
       "\n",
       "    .dataframe thead th {\n",
       "        text-align: right;\n",
       "    }\n",
       "</style>\n",
       "<table border=\"1\" class=\"dataframe\">\n",
       "  <thead>\n",
       "    <tr style=\"text-align: right;\">\n",
       "      <th></th>\n",
       "      <th>Title</th>\n",
       "      <th>Ratings</th>\n",
       "      <th>Review</th>\n",
       "      <th>App</th>\n",
       "      <th>length</th>\n",
       "    </tr>\n",
       "  </thead>\n",
       "  <tbody>\n",
       "    <tr>\n",
       "      <th>0</th>\n",
       "      <td>Probably the de facto payment system of most s...</td>\n",
       "      <td>5</td>\n",
       "      <td>[my, overall, experience, with, paypal, is, ex...</td>\n",
       "      <td>Paypal</td>\n",
       "      <td>128</td>\n",
       "    </tr>\n",
       "    <tr>\n",
       "      <th>1</th>\n",
       "      <td>Industry leading payments and protection with ...</td>\n",
       "      <td>4</td>\n",
       "      <td>[paypal, has, always, been, fair, and, transpa...</td>\n",
       "      <td>Paypal</td>\n",
       "      <td>399</td>\n",
       "    </tr>\n",
       "    <tr>\n",
       "      <th>2</th>\n",
       "      <td>A Decent payment processor, an even worse fina...</td>\n",
       "      <td>2</td>\n",
       "      <td>[paypal, was, the, second, processor, my, agen...</td>\n",
       "      <td>Paypal</td>\n",
       "      <td>276</td>\n",
       "    </tr>\n",
       "    <tr>\n",
       "      <th>3</th>\n",
       "      <td>Paypal is a great platform for buying and sell...</td>\n",
       "      <td>5</td>\n",
       "      <td>[i, have, been, using, paypal, for, years, as,...</td>\n",
       "      <td>Paypal</td>\n",
       "      <td>146</td>\n",
       "    </tr>\n",
       "    <tr>\n",
       "      <th>4</th>\n",
       "      <td>Small Business MUST</td>\n",
       "      <td>5</td>\n",
       "      <td>[smooth, sailing, and, effortlessly, symbiotic...</td>\n",
       "      <td>Paypal</td>\n",
       "      <td>76</td>\n",
       "    </tr>\n",
       "  </tbody>\n",
       "</table>\n",
       "</div>"
      ],
      "text/plain": [
       "                                               Title  Ratings  \\\n",
       "0  Probably the de facto payment system of most s...        5   \n",
       "1  Industry leading payments and protection with ...        4   \n",
       "2  A Decent payment processor, an even worse fina...        2   \n",
       "3  Paypal is a great platform for buying and sell...        5   \n",
       "4                                Small Business MUST        5   \n",
       "\n",
       "                                              Review     App  length  \n",
       "0  [my, overall, experience, with, paypal, is, ex...  Paypal     128  \n",
       "1  [paypal, has, always, been, fair, and, transpa...  Paypal     399  \n",
       "2  [paypal, was, the, second, processor, my, agen...  Paypal     276  \n",
       "3  [i, have, been, using, paypal, for, years, as,...  Paypal     146  \n",
       "4  [smooth, sailing, and, effortlessly, symbiotic...  Paypal      76  "
      ]
     },
     "execution_count": 180,
     "metadata": {},
     "output_type": "execute_result"
    }
   ],
   "source": [
    "df.head()"
   ]
  },
  {
   "cell_type": "code",
   "execution_count": 181,
   "id": "711e8353",
   "metadata": {},
   "outputs": [
    {
     "data": {
      "text/plain": [
       "['my',\n",
       " 'overall',\n",
       " 'experience',\n",
       " 'with',\n",
       " 'paypal',\n",
       " 'is',\n",
       " 'extremely',\n",
       " 'positive',\n",
       " 'so',\n",
       " 'far',\n",
       " 'ive',\n",
       " 'had',\n",
       " 'no',\n",
       " 'problems',\n",
       " 'using',\n",
       " 'paypal',\n",
       " 'as',\n",
       " 'one',\n",
       " 'of',\n",
       " 'my',\n",
       " 'payment',\n",
       " 'providers']"
      ]
     },
     "execution_count": 181,
     "metadata": {},
     "output_type": "execute_result"
    }
   ],
   "source": [
    "df['Review'][0]"
   ]
  },
  {
   "cell_type": "code",
   "execution_count": 182,
   "id": "11460603",
   "metadata": {},
   "outputs": [],
   "source": [
    "from nltk.stem.snowball import SnowballStemmer\n",
    "porter=SnowballStemmer(\"english\")"
   ]
  },
  {
   "cell_type": "code",
   "execution_count": 183,
   "id": "2184a022",
   "metadata": {},
   "outputs": [],
   "source": [
    "def stem_it(Review):\n",
    "  return [porter.stem(word) for word in Review]"
   ]
  },
  {
   "cell_type": "code",
   "execution_count": 184,
   "id": "9af04a73",
   "metadata": {},
   "outputs": [
    {
     "data": {
      "text/plain": [
       "['my',\n",
       " 'overal',\n",
       " 'experi',\n",
       " 'with',\n",
       " 'paypal',\n",
       " 'is',\n",
       " 'extrem',\n",
       " 'posit',\n",
       " 'so',\n",
       " 'far',\n",
       " 'ive',\n",
       " 'had',\n",
       " 'no',\n",
       " 'problem',\n",
       " 'use',\n",
       " 'paypal',\n",
       " 'as',\n",
       " 'one',\n",
       " 'of',\n",
       " 'my',\n",
       " 'payment',\n",
       " 'provid']"
      ]
     },
     "execution_count": 184,
     "metadata": {},
     "output_type": "execute_result"
    }
   ],
   "source": [
    "df['Review']=df['Review'].apply(stem_it)\n",
    "df['Review'][0]"
   ]
  },
  {
   "cell_type": "code",
   "execution_count": 185,
   "id": "dda70b9e",
   "metadata": {},
   "outputs": [
    {
     "name": "stderr",
     "output_type": "stream",
     "text": [
      "[nltk_data] Downloading package stopwords to\n",
      "[nltk_data]     C:\\Users\\Alank\\AppData\\Roaming\\nltk_data...\n",
      "[nltk_data]   Package stopwords is already up-to-date!\n"
     ]
    },
    {
     "data": {
      "text/plain": [
       "True"
      ]
     },
     "execution_count": 185,
     "metadata": {},
     "output_type": "execute_result"
    }
   ],
   "source": [
    "nltk.download('stopwords')"
   ]
  },
  {
   "cell_type": "code",
   "execution_count": 186,
   "id": "5159f7f7",
   "metadata": {},
   "outputs": [],
   "source": [
    "stop_words = stopwords.words('english')"
   ]
  },
  {
   "cell_type": "code",
   "execution_count": 187,
   "id": "13ed8334",
   "metadata": {},
   "outputs": [
    {
     "name": "stdout",
     "output_type": "stream",
     "text": [
      "['i', 'me', 'my', 'myself', 'we', 'our', 'ours', 'ourselves', 'you', \"you're\", \"you've\", \"you'll\", \"you'd\", 'your', 'yours', 'yourself', 'yourselves', 'he', 'him', 'his', 'himself', 'she', \"she's\", 'her', 'hers', 'herself', 'it', \"it's\", 'its', 'itself', 'they', 'them', 'their', 'theirs', 'themselves', 'what', 'which', 'who', 'whom', 'this', 'that', \"that'll\", 'these', 'those', 'am', 'is', 'are', 'was', 'were', 'be', 'been', 'being', 'have', 'has', 'had', 'having', 'do', 'does', 'did', 'doing', 'a', 'an', 'the', 'and', 'but', 'if', 'or', 'because', 'as', 'until', 'while', 'of', 'at', 'by', 'for', 'with', 'about', 'against', 'between', 'into', 'through', 'during', 'before', 'after', 'above', 'below', 'to', 'from', 'up', 'down', 'in', 'out', 'on', 'off', 'over', 'under', 'again', 'further', 'then', 'once', 'here', 'there', 'when', 'where', 'why', 'how', 'all', 'any', 'both', 'each', 'few', 'more', 'most', 'other', 'some', 'such', 'no', 'nor', 'not', 'only', 'own', 'same', 'so', 'than', 'too', 'very', 's', 't', 'can', 'will', 'just', 'don', \"don't\", 'should', \"should've\", 'now', 'd', 'll', 'm', 'o', 're', 've', 'y', 'ain', 'aren', \"aren't\", 'couldn', \"couldn't\", 'didn', \"didn't\", 'doesn', \"doesn't\", 'hadn', \"hadn't\", 'hasn', \"hasn't\", 'haven', \"haven't\", 'isn', \"isn't\", 'ma', 'mightn', \"mightn't\", 'mustn', \"mustn't\", 'needn', \"needn't\", 'shan', \"shan't\", 'shouldn', \"shouldn't\", 'wasn', \"wasn't\", 'weren', \"weren't\", 'won', \"won't\", 'wouldn', \"wouldn't\"]\n"
     ]
    }
   ],
   "source": [
    "print(stop_words)"
   ]
  },
  {
   "cell_type": "code",
   "execution_count": 188,
   "id": "7435e5e6",
   "metadata": {},
   "outputs": [],
   "source": [
    "def remove_stopwords(Review):\n",
    "    removed = []\n",
    "    stop_words = list(stopwords.words(\"english\"))\n",
    "    tokens = word_tokenize(Review)\n",
    "    for i in range(len(tokens)):\n",
    "        if tokens[i] not in stop_words:\n",
    "            removed.append(tokens[i])\n",
    "    return \" \".join(removed)"
   ]
  },
  {
   "cell_type": "code",
   "execution_count": 189,
   "id": "693f747e",
   "metadata": {},
   "outputs": [
    {
     "data": {
      "text/plain": [
       "'my overal experi with paypal is extrem posit so far ive had no problem use paypal as one of my payment provid'"
      ]
     },
     "execution_count": 189,
     "metadata": {},
     "output_type": "execute_result"
    }
   ],
   "source": [
    "df['Review'] = df['Review'].astype(str)\n",
    "df['Review'] = df['Review'].apply(lambda x: remove_punctuation(x))\n",
    "df['Review'][0]"
   ]
  },
  {
   "cell_type": "code",
   "execution_count": 190,
   "id": "7ee2e52b",
   "metadata": {},
   "outputs": [],
   "source": [
    "def remove_extra_white_spaces(Review):\n",
    "    single_char_pattern = r'\\s+[a-zA-Z]\\s+'\n",
    "    without_sc = re.sub(pattern=single_char_pattern, repl=\" \", string=Review)\n",
    "    return without_sc"
   ]
  },
  {
   "cell_type": "code",
   "execution_count": 191,
   "id": "d4d9b56c",
   "metadata": {},
   "outputs": [
    {
     "data": {
      "text/plain": [
       "'my overal experi with paypal is extrem posit so far ive had no problem use paypal as one of my payment provid'"
      ]
     },
     "execution_count": 191,
     "metadata": {},
     "output_type": "execute_result"
    }
   ],
   "source": [
    "df['Review'] = df['Review'].apply(lambda x: remove_extra_white_spaces(x))\n",
    "df['Review'][0]"
   ]
  },
  {
   "cell_type": "code",
   "execution_count": 192,
   "id": "eeb6e5c5",
   "metadata": {},
   "outputs": [],
   "source": [
    "def lemmatizing(Review):\n",
    "    lemmatizer = WordNetLemmatizer()\n",
    "    tokens = word_tokenize(Review)\n",
    "    for i in range(len(tokens)):\n",
    "        lemma_word = lemmatizer.lemmatize(tokens[i])\n",
    "        tokens[i] = lemma_word\n",
    "    return \" \".join(tokens)"
   ]
  },
  {
   "cell_type": "code",
   "execution_count": 193,
   "id": "9f5dfefc",
   "metadata": {},
   "outputs": [],
   "source": [
    "df['Review'] = df['Review'].astype(str)\n",
    "df['Review'] = df['Review'].apply(lambda x: lemmatizing(x))"
   ]
  },
  {
   "cell_type": "code",
   "execution_count": 194,
   "id": "0046fd3a",
   "metadata": {},
   "outputs": [
    {
     "data": {
      "text/plain": [
       "'my overal experi with paypal is extrem posit so far ive had no problem use paypal a one of my payment provid'"
      ]
     },
     "execution_count": 194,
     "metadata": {},
     "output_type": "execute_result"
    }
   ],
   "source": [
    "df['Review'][0]"
   ]
  },
  {
   "cell_type": "code",
   "execution_count": 195,
   "id": "13fbf6e3",
   "metadata": {},
   "outputs": [
    {
     "data": {
      "text/plain": [
       "'my overal experi with paypal is extrem posit so far ive had no problem use paypal a one of my payment provid'"
      ]
     },
     "execution_count": 195,
     "metadata": {},
     "output_type": "execute_result"
    }
   ],
   "source": [
    "df['length_after_cleaning'] = df['Review'].apply(lambda x: len(x))\n",
    "df['Review'][0]"
   ]
  },
  {
   "cell_type": "code",
   "execution_count": null,
   "id": "386f5f99",
   "metadata": {},
   "outputs": [],
   "source": []
  },
  {
   "cell_type": "code",
   "execution_count": 196,
   "id": "921538a4",
   "metadata": {},
   "outputs": [],
   "source": [
    "from sklearn.feature_extraction.text import TfidfVectorizer\n",
    "from sklearn.linear_model import LogisticRegression\n",
    "from sklearn.metrics import accuracy_score, classification_report\n",
    "from sklearn.model_selection import train_test_split"
   ]
  },
  {
   "cell_type": "code",
   "execution_count": 197,
   "id": "6bb25e60",
   "metadata": {},
   "outputs": [],
   "source": [
    "X = df['Review']\n",
    "y = df['Ratings']"
   ]
  },
  {
   "cell_type": "code",
   "execution_count": 198,
   "id": "278e1efe",
   "metadata": {},
   "outputs": [],
   "source": [
    "X_train, X_test, y_train, y_test = train_test_split(X, y, test_size=0.25)"
   ]
  },
  {
   "cell_type": "code",
   "execution_count": 199,
   "id": "df953ec3",
   "metadata": {},
   "outputs": [],
   "source": [
    "tfidf_vectorizer = TfidfVectorizer(max_features=1000)\n",
    "X_train_tfidf = tfidf_vectorizer.fit_transform(X_train)\n",
    "X_test_tfidf = tfidf_vectorizer.transform(X_test)"
   ]
  },
  {
   "cell_type": "code",
   "execution_count": 200,
   "id": "ae32a5d3",
   "metadata": {},
   "outputs": [
    {
     "data": {
      "text/plain": [
       "LogisticRegression(max_iter=1000, random_state=42)"
      ]
     },
     "execution_count": 200,
     "metadata": {},
     "output_type": "execute_result"
    }
   ],
   "source": [
    "classifier = LogisticRegression(max_iter=1000,random_state=42)\n",
    "classifier.fit(X_train_tfidf, y_train)"
   ]
  },
  {
   "cell_type": "code",
   "execution_count": 201,
   "id": "2eeac161",
   "metadata": {},
   "outputs": [],
   "source": [
    "y_pred = classifier.predict(X_test_tfidf)"
   ]
  },
  {
   "cell_type": "code",
   "execution_count": 202,
   "id": "164a201d",
   "metadata": {},
   "outputs": [
    {
     "name": "stderr",
     "output_type": "stream",
     "text": [
      "C:\\Users\\Alank\\anaconda3\\lib\\site-packages\\sklearn\\metrics\\_classification.py:1318: UndefinedMetricWarning: Precision and F-score are ill-defined and being set to 0.0 in labels with no predicted samples. Use `zero_division` parameter to control this behavior.\n",
      "  _warn_prf(average, modifier, msg_start, len(result))\n",
      "C:\\Users\\Alank\\anaconda3\\lib\\site-packages\\sklearn\\metrics\\_classification.py:1318: UndefinedMetricWarning: Precision and F-score are ill-defined and being set to 0.0 in labels with no predicted samples. Use `zero_division` parameter to control this behavior.\n",
      "  _warn_prf(average, modifier, msg_start, len(result))\n",
      "C:\\Users\\Alank\\anaconda3\\lib\\site-packages\\sklearn\\metrics\\_classification.py:1318: UndefinedMetricWarning: Precision and F-score are ill-defined and being set to 0.0 in labels with no predicted samples. Use `zero_division` parameter to control this behavior.\n",
      "  _warn_prf(average, modifier, msg_start, len(result))\n"
     ]
    }
   ],
   "source": [
    "accuracy = accuracy_score(y_test, y_pred)\n",
    "classification_rep = classification_report(y_test, y_pred)"
   ]
  },
  {
   "cell_type": "code",
   "execution_count": 203,
   "id": "57979ad4",
   "metadata": {},
   "outputs": [
    {
     "data": {
      "text/plain": [
       "0.7905"
      ]
     },
     "execution_count": 203,
     "metadata": {},
     "output_type": "execute_result"
    }
   ],
   "source": [
    "accuracy"
   ]
  }
 ],
 "metadata": {
  "kernelspec": {
   "display_name": "Python 3 (ipykernel)",
   "language": "python",
   "name": "python3"
  },
  "language_info": {
   "codemirror_mode": {
    "name": "ipython",
    "version": 3
   },
   "file_extension": ".py",
   "mimetype": "text/x-python",
   "name": "python",
   "nbconvert_exporter": "python",
   "pygments_lexer": "ipython3",
   "version": "3.9.12"
  }
 },
 "nbformat": 4,
 "nbformat_minor": 5
}
